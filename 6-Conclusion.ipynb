{
 "cells": [
  {
   "cell_type": "markdown",
   "metadata": {},
   "source": [
    "## Conclusion"
   ]
  },
  {
   "cell_type": "code",
   "execution_count": 6,
   "metadata": {},
   "outputs": [],
   "source": [
    "import pandas as pd\n",
    "import h5py\n",
    "from keras.models import load_model\n",
    "import pickle\n",
    "import itertools\n",
    "import numpy as np\n",
    "from keras.preprocessing.text import Tokenizer\n",
    "from keras.preprocessing.sequence import pad_sequences\n",
    "from keras.preprocessing import text, sequence\n",
    "from nltk.tokenize import word_tokenize\n",
    "import matplotlib.pyplot as plt"
   ]
  },
  {
   "cell_type": "code",
   "execution_count": 7,
   "metadata": {},
   "outputs": [
    {
     "data": {
      "text/html": [
       "<div>\n",
       "<style scoped>\n",
       "    .dataframe tbody tr th:only-of-type {\n",
       "        vertical-align: middle;\n",
       "    }\n",
       "\n",
       "    .dataframe tbody tr th {\n",
       "        vertical-align: top;\n",
       "    }\n",
       "\n",
       "    .dataframe thead th {\n",
       "        text-align: right;\n",
       "    }\n",
       "</style>\n",
       "<table border=\"1\" class=\"dataframe\">\n",
       "  <thead>\n",
       "    <tr style=\"text-align: right;\">\n",
       "      <th></th>\n",
       "      <th>Model Name</th>\n",
       "      <th>Test Loss</th>\n",
       "      <th>Test Accuracy</th>\n",
       "    </tr>\n",
       "  </thead>\n",
       "  <tbody>\n",
       "    <tr>\n",
       "      <th>0</th>\n",
       "      <td>Baseline Model</td>\n",
       "      <td>0.112500</td>\n",
       "      <td>0.953484</td>\n",
       "    </tr>\n",
       "    <tr>\n",
       "      <th>1</th>\n",
       "      <td>Convolutional Model</td>\n",
       "      <td>0.087847</td>\n",
       "      <td>0.965345</td>\n",
       "    </tr>\n",
       "    <tr>\n",
       "      <th>2</th>\n",
       "      <td>Recurrent Model</td>\n",
       "      <td>0.082338</td>\n",
       "      <td>0.966819</td>\n",
       "    </tr>\n",
       "  </tbody>\n",
       "</table>\n",
       "</div>"
      ],
      "text/plain": [
       "            Model Name  Test Loss  Test Accuracy\n",
       "0       Baseline Model   0.112500       0.953484\n",
       "1  Convolutional Model   0.087847       0.965345\n",
       "2      Recurrent Model   0.082338       0.966819"
      ]
     },
     "execution_count": 7,
     "metadata": {},
     "output_type": "execute_result"
    }
   ],
   "source": [
    "df=pd.read_csv('models/models_performance.csv')\n",
    "df"
   ]
  },
  {
   "cell_type": "markdown",
   "metadata": {},
   "source": [
    "**Our best performing model is the Recurrent Neural Network, lets load it and test it!**"
   ]
  },
  {
   "cell_type": "code",
   "execution_count": 8,
   "metadata": {},
   "outputs": [],
   "source": [
    "#loading Tokenizer\n",
    "with open('data/3-processed_data/tokenizer.pickle', 'rb') as t:\n",
    "    tokenizer = pickle.load(t)\n",
    "#loading test data\n",
    "Y_test=pd.read_csv('data/3-processed_data/Y_test.csv')\n",
    "#Loading model\n",
    "rnn_model = load_model('models/rnn_model.h5')"
   ]
  },
  {
   "cell_type": "code",
   "execution_count": 12,
   "metadata": {},
   "outputs": [],
   "source": [
    "#lets try it on two different comments we manually type\n",
    "#com='I dont give a shit'\n",
    "com='thank you for your feedback'"
   ]
  },
  {
   "cell_type": "code",
   "execution_count": 13,
   "metadata": {},
   "outputs": [],
   "source": [
    "com = word_tokenize(com)\n",
    "tokenizer.fit_on_texts(com)\n",
    "com = tokenizer.texts_to_sequences(com)\n",
    "com=list(itertools.chain.from_iterable(com))\n",
    "com = pad_sequences([com], padding='post', maxlen=200)\n",
    "r=np.reshape(com[0], newshape=(1,200))\n",
    "pred=rnn_model.predict(r, batch_size=1)\n",
    "labels = list(Y_test.columns)\n",
    "\n",
    "a=list(pred[0])\n",
    "results=[]\n",
    "for idx,val in enumerate(a):\n",
    "    if val>0.5:\n",
    "        results.append(labels[idx])\n",
    "        \n"
   ]
  },
  {
   "cell_type": "code",
   "execution_count": 14,
   "metadata": {},
   "outputs": [
    {
     "name": "stdout",
     "output_type": "stream",
     "text": [
      "The model classifies your comment as  ['neutral'] .\n"
     ]
    }
   ],
   "source": [
    "print('The model classifies your comment as ',str(results),'.')"
   ]
  },
  {
   "cell_type": "markdown",
   "metadata": {},
   "source": [
    "## Recommendations\n",
    "* Ban most common words in toxic comments\n",
    "* Use Recurrent neural network model to create alerts on critical commenths like threats\n",
    "* Provide more data to improve performance"
   ]
  },
  {
   "cell_type": "markdown",
   "metadata": {},
   "source": [
    "## Future Work\n",
    "\n",
    "* Try pretrained models\n",
    "* Focus on threat comments\n",
    "* Train for more ecpoch on more powerful machine\n",
    "* Deploy on AWS"
   ]
  }
 ],
 "metadata": {
  "kernelspec": {
   "display_name": "Python 3",
   "language": "python",
   "name": "python3"
  },
  "language_info": {
   "codemirror_mode": {
    "name": "ipython",
    "version": 3
   },
   "file_extension": ".py",
   "mimetype": "text/x-python",
   "name": "python",
   "nbconvert_exporter": "python",
   "pygments_lexer": "ipython3",
   "version": "3.6.6"
  }
 },
 "nbformat": 4,
 "nbformat_minor": 2
}
