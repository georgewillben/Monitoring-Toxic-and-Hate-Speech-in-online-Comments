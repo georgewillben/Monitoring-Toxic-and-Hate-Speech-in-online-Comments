{
 "cells": [
  {
   "cell_type": "markdown",
   "metadata": {},
   "source": [
    "# Processing the Data\n",
    "* Loading Cleaned Data\n",
    "* Toeknizing\n",
    "* Saving Processed data"
   ]
  },
  {
   "cell_type": "code",
   "execution_count": 7,
   "metadata": {},
   "outputs": [],
   "source": [
    "import pandas as pd\n",
    "import pickle\n",
    "from keras.preprocessing.text import Tokenizer\n",
    "from keras.preprocessing.sequence import pad_sequences\n",
    "from keras.preprocessing import text, sequence"
   ]
  },
  {
   "cell_type": "markdown",
   "metadata": {},
   "source": [
    "### 1- Loading"
   ]
  },
  {
   "cell_type": "code",
   "execution_count": 8,
   "metadata": {},
   "outputs": [],
   "source": [
    "#starting data and ending data folders\n",
    "in_folder='data/2-cleaned_data'\n",
    "out_folder='data/3-processed_data'"
   ]
  },
  {
   "cell_type": "code",
   "execution_count": 9,
   "metadata": {},
   "outputs": [],
   "source": [
    "#loading our data\n",
    "X_train=pd.read_csv(in_folder+'/X_train.csv')\n",
    "Y_train=pd.read_csv(in_folder+'/Y_train.csv')\n",
    "X_test=pd.read_csv(in_folder+'/X_test.csv')\n",
    "Y_test=pd.read_csv(in_folder+'/Y_test.csv')\n",
    "labels=list(Y_test.columns)"
   ]
  },
  {
   "cell_type": "code",
   "execution_count": 10,
   "metadata": {},
   "outputs": [],
   "source": [
    "X_train = X_train[\"comment_text\"].values\n",
    "X_test  = X_test[\"comment_text\"].values\n",
    "\n",
    "Y_train = Y_train[labels].values\n",
    "Y_test  = Y_test[labels].values"
   ]
  },
  {
   "cell_type": "code",
   "execution_count": 11,
   "metadata": {},
   "outputs": [
    {
     "data": {
      "text/plain": [
       "\"Explanation\\r\\nWhy the edits made under my username Hardcore Metallica Fan were reverted? They weren't vandalisms, just closure on some GAs after I voted at New York Dolls FAC. And please don't remove the template from the talk page since I'm retired now.89.205.38.27\""
      ]
     },
     "execution_count": 11,
     "metadata": {},
     "output_type": "execute_result"
    }
   ],
   "source": [
    "X_train[0]"
   ]
  },
  {
   "cell_type": "markdown",
   "metadata": {},
   "source": [
    "### 2- Tokenizing"
   ]
  },
  {
   "cell_type": "code",
   "execution_count": 12,
   "metadata": {},
   "outputs": [
    {
     "name": "stdout",
     "output_type": "stream",
     "text": [
      "X_train shape: (159571, 200)\n",
      "X_test shape:  (63978, 200)\n"
     ]
    }
   ],
   "source": [
    "# tokenizing the data\n",
    "tokenizer = Tokenizer(num_words=20000)\n",
    "tokenizer.fit_on_texts(list(X_train))\n",
    "\n",
    "# turning the tokenized text into sequences\n",
    "X_train = tokenizer.texts_to_sequences(X_train)\n",
    "X_test  = tokenizer.texts_to_sequences(X_test)\n",
    "\n",
    "# padding the sequences\n",
    "X_train = sequence.pad_sequences(X_train, maxlen=200)\n",
    "X_test  = sequence.pad_sequences(X_test,  maxlen=200)\n",
    "\n",
    "print('X_train shape:', X_train.shape)\n",
    "print('X_test shape: ', X_test.shape)"
   ]
  },
  {
   "cell_type": "markdown",
   "metadata": {},
   "source": [
    "### 3- Saving Data for Modelling"
   ]
  },
  {
   "cell_type": "code",
   "execution_count": 13,
   "metadata": {},
   "outputs": [],
   "source": [
    "#Savink Tokenizer with Pickle\n",
    "with open(out_folder+'/tokenizer.pickle', 'wb') as t:\n",
    "    pickle.dump(tokenizer, t, protocol=pickle.HIGHEST_PROTOCOL)"
   ]
  },
  {
   "cell_type": "code",
   "execution_count": 14,
   "metadata": {},
   "outputs": [],
   "source": [
    "#Saving processed data\n",
    "pd.DataFrame(X_train).to_csv(out_folder+'/X_train.csv',index=False)\n",
    "pd.DataFrame(Y_train,columns=labels).to_csv(out_folder+'/Y_train.csv',index=False)\n",
    "pd.DataFrame(X_test).to_csv(out_folder+'/X_test.csv',index=False)\n",
    "pd.DataFrame(Y_test,columns=labels).to_csv(out_folder+'/Y_test.csv',index=False)"
   ]
  },
  {
   "cell_type": "code",
   "execution_count": null,
   "metadata": {},
   "outputs": [],
   "source": []
  }
 ],
 "metadata": {
  "kernelspec": {
   "display_name": "Python 3",
   "language": "python",
   "name": "python3"
  },
  "language_info": {
   "codemirror_mode": {
    "name": "ipython",
    "version": 3
   },
   "file_extension": ".py",
   "mimetype": "text/x-python",
   "name": "python",
   "nbconvert_exporter": "python",
   "pygments_lexer": "ipython3",
   "version": "3.6.6"
  }
 },
 "nbformat": 4,
 "nbformat_minor": 2
}
